{
 "cells": [
  {
   "cell_type": "code",
   "execution_count": 16,
   "metadata": {
    "collapsed": true
   },
   "outputs": [],
   "source": [
    "import os\n",
    "import pandas as pd\n",
    "import numpy as np\n",
    "from sklearn.model_selection import train_test_split\n",
    "from sklearn.preprocessing import MinMaxScaler\n",
    "from sklearn.neighbors import KNeighborsClassifier\n",
    "from sklearn.neighbors import KNeighborsRegressor\n",
    "from sklearn.metrics import accuracy_score\n",
    "from sklearn.metrics import mean_squared_error"
   ]
  },
  {
   "cell_type": "code",
   "execution_count": 17,
   "outputs": [],
   "source": [
    "# read data ----------------------------\n",
    "# -- precoded --\n",
    "pth = 'data_part1_part2_heartfailure.csv' # path to dataset for this exercise\n",
    "df = pd.read_csv(pth, sep=\",\")"
   ],
   "metadata": {
    "collapsed": false
   }
  },
  {
   "cell_type": "code",
   "execution_count": 18,
   "outputs": [],
   "source": [
    "# select X and y, ----------------\n",
    "# -- student work --\n",
    "# X =\n",
    "# y =\n",
    "Y = df['ejection_fraction'].to_numpy()\n",
    "df.drop(['sex', 'diabetes', 'high_blood_pressure', 'smoking', 'anaemia', 'DEATH_EVENT', 'ejection_fraction'], inplace=True, axis=1)\n",
    "X = df.to_numpy(float)"
   ],
   "metadata": {
    "collapsed": false
   }
  },
  {
   "cell_type": "code",
   "execution_count": 19,
   "outputs": [],
   "source": [
    "# scale ---------------------------------\n",
    "# -- pre-coded --\n",
    "mmSc = MinMaxScaler()\n",
    "mmSc.fit(X)\n",
    "X_scale = mmSc.transform(X)\n",
    "X_scale = np.round(X_scale, 3)"
   ],
   "metadata": {
    "collapsed": false
   }
  },
  {
   "cell_type": "code",
   "execution_count": 20,
   "outputs": [],
   "source": [
    "# rebuild the data frame and return------\n",
    "# -- student work --\n",
    "# solution =\n",
    "new_df = pd.DataFrame(np.hstack((X, Y.reshape(-1,1))), columns=['age', 'creatinine_phosphokinase', 'platelets', 'serum_creatinine', 'serum_sodium', 'time', 'ejection_fraction'])"
   ],
   "metadata": {
    "collapsed": false
   }
  },
  {
   "cell_type": "code",
   "execution_count": 14,
   "outputs": [],
   "source": [],
   "metadata": {
    "collapsed": false
   }
  },
  {
   "cell_type": "code",
   "execution_count": null,
   "outputs": [],
   "source": [],
   "metadata": {
    "collapsed": false
   }
  }
 ],
 "metadata": {
  "kernelspec": {
   "display_name": "Python 3",
   "language": "python",
   "name": "python3"
  },
  "language_info": {
   "codemirror_mode": {
    "name": "ipython",
    "version": 2
   },
   "file_extension": ".py",
   "mimetype": "text/x-python",
   "name": "python",
   "nbconvert_exporter": "python",
   "pygments_lexer": "ipython2",
   "version": "2.7.6"
  }
 },
 "nbformat": 4,
 "nbformat_minor": 0
}
