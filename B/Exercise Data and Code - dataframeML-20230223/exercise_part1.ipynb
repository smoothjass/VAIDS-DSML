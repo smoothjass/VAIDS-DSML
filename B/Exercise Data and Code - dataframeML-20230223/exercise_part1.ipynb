{
 "cells": [
  {
   "cell_type": "code",
   "execution_count": 16,
   "metadata": {
    "collapsed": true
   },
   "outputs": [],
   "source": [
    "import os\n",
    "import pandas as pd\n",
    "pd.options.display.max_rows = 5\n",
    "import numpy as np\n",
    "from sklearn.model_selection import train_test_split\n",
    "from sklearn.preprocessing import MinMaxScaler\n",
    "from sklearn.neighbors import KNeighborsClassifier\n",
    "from sklearn.neighbors import KNeighborsRegressor\n",
    "from sklearn.metrics import accuracy_score\n",
    "from sklearn.metrics import mean_squared_error"
   ]
  },
  {
   "cell_type": "code",
   "execution_count": 17,
   "outputs": [],
   "source": [
    "# read data ----------------------------\n",
    "# -- precoded --\n",
    "pth = 'data_part1_part2_heartfailure.csv' # path to the dataset provided for this exercise\n",
    "df = pd.read_csv(pth, sep=\",\")\n",
    "#print(df)\n",
    "#print(type(df))"
   ],
   "metadata": {
    "collapsed": false
   }
  },
  {
   "cell_type": "code",
   "execution_count": 18,
   "outputs": [],
   "source": [
    "# select X and y ----------------\n",
    "# -- student work --\n",
    "# X = ...\n",
    "# y = ...\n",
    "X = df[['age', 'creatinine_phosphokinase', 'ejection_fraction', 'platelets', 'serum_sodium', 'smoking']].to_numpy()\n",
    "#X.shape\n",
    "Y = df['DEATH_EVENT'].to_numpy()\n",
    "#Y.shape"
   ],
   "metadata": {
    "collapsed": false
   }
  },
  {
   "cell_type": "code",
   "execution_count": 19,
   "outputs": [],
   "source": [
    "# scale ---------------------------------\n",
    "# -- pre-coded --\n",
    "mmSc = MinMaxScaler()\n",
    "mmSc.fit(X)\n",
    "X_scale = mmSc.transform(X)\n",
    "X_scale = np.round(X_scale, 3)\n",
    "\n",
    "#print(X)"
   ],
   "metadata": {
    "collapsed": false
   }
  },
  {
   "cell_type": "code",
   "execution_count": 20,
   "outputs": [],
   "source": [
    "X_train, X_test, Y_train, Y_test = train_test_split(X,Y ,\n",
    "                                   test_size=0.25,\n",
    "                                   shuffle=True)\n",
    "#print(X_train.shape)\n",
    "#print(X_test.shape)\n",
    "#print(Y_train.shape)\n",
    "#print(Y_test.shape)"
   ],
   "metadata": {
    "collapsed": false
   }
  },
  {
   "cell_type": "code",
   "execution_count": 21,
   "outputs": [],
   "source": [
    "# rebuild the data frame and bind it to a variable ----------------\n",
    "# -- student work --\n",
    "# solution = ...\n",
    "\n",
    "new_df = pd.DataFrame(np.hstack((X, Y.reshape(-1,1))), columns=['age', 'creatinine_phosphokinase', 'ejection_fraction', 'platelets', 'serum_sodium', 'smoking', 'DEATH_EVENT'])"
   ],
   "metadata": {
    "collapsed": false
   }
  },
  {
   "cell_type": "code",
   "execution_count": 22,
   "outputs": [],
   "source": [
    "#print(new_df)"
   ],
   "metadata": {
    "collapsed": false
   }
  },
  {
   "cell_type": "code",
   "execution_count": 22,
   "outputs": [],
   "source": [],
   "metadata": {
    "collapsed": false
   }
  }
 ],
 "metadata": {
  "kernelspec": {
   "display_name": "Python 3",
   "language": "python",
   "name": "python3"
  },
  "language_info": {
   "codemirror_mode": {
    "name": "ipython",
    "version": 2
   },
   "file_extension": ".py",
   "mimetype": "text/x-python",
   "name": "python",
   "nbconvert_exporter": "python",
   "pygments_lexer": "ipython2",
   "version": "2.7.6"
  }
 },
 "nbformat": 4,
 "nbformat_minor": 0
}
