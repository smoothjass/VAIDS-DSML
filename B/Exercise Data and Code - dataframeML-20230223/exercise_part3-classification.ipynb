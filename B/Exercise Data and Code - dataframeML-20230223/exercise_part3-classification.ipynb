{
 "cells": [
  {
   "cell_type": "code",
   "execution_count": 7,
   "metadata": {
    "collapsed": true
   },
   "outputs": [],
   "source": [
    "import os\n",
    "import pandas as pd\n",
    "import numpy as np\n",
    "from sklearn.model_selection import train_test_split\n",
    "from sklearn.preprocessing import MinMaxScaler\n",
    "from sklearn.neighbors import KNeighborsClassifier\n",
    "from sklearn.neighbors import KNeighborsRegressor\n",
    "from sklearn.metrics import accuracy_score\n",
    "from sklearn.metrics import mean_squared_error"
   ]
  },
  {
   "cell_type": "code",
   "execution_count": 8,
   "outputs": [],
   "source": [
    "solution_dataframe_columns = [\"y_classification\", \"y_hat_classification_k1\", \"y_hat_classification_k5\",\n",
    "                              \"error_y_hat_classification_k1\", \"error_y_hat_classification_k5\",\n",
    "                              \"y_regression\", \"y_hat_regression_k1\", \"y_hat_regression_k7\",\n",
    "                              \"error_y_hat_regression_k1\", \"error_y_hat_regression_k7\"]"
   ],
   "metadata": {
    "collapsed": false
   }
  },
  {
   "cell_type": "code",
   "execution_count": 9,
   "outputs": [],
   "source": [
    "pth1 = 'data_part3_heartfailure_classification.csv' # path to classification dataset\n",
    "pth2 = 'data_part3_heartfailure_regression.csv' # pth to regression dataset\n",
    "\n",
    "df_cls = pd.read_csv(pth1, sep=\";\")\n",
    "df_reg = pd.read_csv(pth2, sep=\";\")"
   ],
   "metadata": {
    "collapsed": false
   }
  },
  {
   "cell_type": "code",
   "execution_count": 10,
   "outputs": [],
   "source": [
    "# extract X_cls, y_cls, X_reg, y_reg ---------\n",
    "# -- students work --\n",
    "y_cls = df_cls['DEATH_EVENT'].to_numpy()\n",
    "df_cls.drop(['DEATH_EVENT'], inplace=True, axis=1)\n",
    "X_cls = df_cls.to_numpy()\n",
    "\n",
    "y_reg = df_reg['ejection_fraction'].to_numpy()\n",
    "df_reg.drop(['ejection_fraction'], inplace=True, axis=1)\n",
    "X_reg = df_reg.to_numpy()"
   ],
   "metadata": {
    "collapsed": false
   }
  },
  {
   "cell_type": "code",
   "execution_count": 11,
   "outputs": [],
   "source": [
    "# init 4 knn models (2 for classification, 2 for regressions) ---\n",
    "# see docstring for details!\n",
    "# -- pre coded --\n",
    "_1nn_cls = KNeighborsClassifier(1)\n",
    "_5nn_cls = KNeighborsClassifier(5)\n",
    "_1nn_reg = KNeighborsRegressor(1)\n",
    "_7nn_reg = KNeighborsRegressor(7)"
   ],
   "metadata": {
    "collapsed": false
   }
  },
  {
   "cell_type": "code",
   "execution_count": 12,
   "outputs": [],
   "source": [
    "# fit the models and predict -------------------\n",
    "_1nn_cls = _1nn_cls.fit(X_cls, y_cls)\n",
    "y_hat_classification_k1 = _1nn_cls.predict(X_cls)\n",
    "_5nn_cls = _5nn_cls.fit(X_cls, y_cls)\n",
    "y_hat_classification_k5 = _5nn_cls.predict(X_cls)\n",
    "\n",
    "_1nn_reg = _1nn_reg.fit(X_reg, y_reg)\n",
    "y_hat_regression_k1 = _1nn_reg.predict(X_reg)\n",
    "_7nn_reg = _7nn_reg.fit(X_reg, y_reg)\n",
    "y_hat_regression_k7 = _7nn_reg.predict(X_reg)"
   ],
   "metadata": {
    "collapsed": false
   }
  },
  {
   "cell_type": "code",
   "execution_count": 13,
   "outputs": [],
   "source": [
    "error_y_hat_classification_k1 = y_cls != y_hat_classification_k1\n",
    "error_y_hat_classification_k5 = y_cls != y_hat_classification_k5\n",
    "\n",
    "error_y_hat_regression_k1 = y_reg - y_hat_regression_k1\n",
    "error_y_hat_regression_k7 = y_reg - y_hat_regression_k7"
   ],
   "metadata": {
    "collapsed": false
   }
  },
  {
   "cell_type": "code",
   "execution_count": null,
   "outputs": [],
   "source": [
    "new_df = pd.DataFrame(np.vstack((y_cls, y_hat_classification_k1, y_hat_classification_k5, error_y_hat_classification_k1, error_y_hat_classification_k5, y_reg, y_hat_regression_k1, y_hat_regression_k7, error_y_hat_regression_k1, error_y_hat_regression_k7)).T, columns=solution_dataframe_columns)\n",
    "\n",
    "print(new_df)"
   ],
   "metadata": {
    "collapsed": false,
    "pycharm": {
     "is_executing": true
    }
   }
  },
  {
   "cell_type": "code",
   "execution_count": null,
   "outputs": [],
   "source": [],
   "metadata": {
    "collapsed": false,
    "pycharm": {
     "is_executing": true
    }
   }
  },
  {
   "cell_type": "code",
   "execution_count": null,
   "outputs": [],
   "source": [],
   "metadata": {
    "collapsed": false
   }
  }
 ],
 "metadata": {
  "kernelspec": {
   "display_name": "Python 3",
   "language": "python",
   "name": "python3"
  },
  "language_info": {
   "codemirror_mode": {
    "name": "ipython",
    "version": 2
   },
   "file_extension": ".py",
   "mimetype": "text/x-python",
   "name": "python",
   "nbconvert_exporter": "python",
   "pygments_lexer": "ipython2",
   "version": "2.7.6"
  }
 },
 "nbformat": 4,
 "nbformat_minor": 0
}
