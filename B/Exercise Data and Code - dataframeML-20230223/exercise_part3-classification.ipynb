{
 "cells": [
  {
   "cell_type": "code",
   "execution_count": 36,
   "metadata": {
    "collapsed": true
   },
   "outputs": [],
   "source": [
    "import os\n",
    "import pandas as pd\n",
    "import numpy as np\n",
    "from sklearn.model_selection import train_test_split\n",
    "from sklearn.preprocessing import MinMaxScaler\n",
    "from sklearn.neighbors import KNeighborsClassifier\n",
    "from sklearn.neighbors import KNeighborsRegressor\n",
    "from sklearn.metrics import accuracy_score\n",
    "from sklearn.metrics import mean_squared_error"
   ]
  },
  {
   "cell_type": "code",
   "execution_count": 46,
   "outputs": [],
   "source": [
    "solution_dataframe_columns = [\"y_classification\", \"y_hat_classification_k1\", \"y_hat_classification_k5\",\n",
    "                              \"error_y_hat_classification_k1\", \"error_y_hat_classification_k5\",\n",
    "                              \"y_regression\", \"y_hat_regression_k1\", \"y_hat_regression_k7\",\n",
    "                              \"error_y_hat_regression_k1\", \"error_y_hat_regression_k7\"]"
   ],
   "metadata": {
    "collapsed": false
   }
  },
  {
   "cell_type": "code",
   "execution_count": 47,
   "outputs": [
    {
     "data": {
      "text/plain": "Index(['age', 'creatinine_phosphokinase', 'ejection_fraction', 'platelets',\n       'serum_sodium', 'smoking', 'DEATH_EVENT'],\n      dtype='object')"
     },
     "execution_count": 47,
     "metadata": {},
     "output_type": "execute_result"
    }
   ],
   "source": [
    "pth1 = 'data_part3_heartfailure_classification.csv' # path to classification dataset\n",
    "df_cls = pd.read_csv(pth1, sep=\";\")\n",
    "df_cls.columns"
   ],
   "metadata": {
    "collapsed": false
   }
  },
  {
   "cell_type": "code",
   "execution_count": 48,
   "outputs": [
    {
     "data": {
      "text/plain": "(299, 6)"
     },
     "execution_count": 48,
     "metadata": {},
     "output_type": "execute_result"
    }
   ],
   "source": [
    "# extract X_cls, y_cls, X_reg, y_reg ---------\n",
    "# -- students work --\n",
    "y_cls = df_cls['DEATH_EVENT'].to_numpy()\n",
    "df_cls.drop(['DEATH_EVENT'], inplace=True, axis=1)\n",
    "X_cls = df_cls.to_numpy()\n",
    "X_cls.shape"
   ],
   "metadata": {
    "collapsed": false
   }
  },
  {
   "cell_type": "code",
   "execution_count": 49,
   "outputs": [],
   "source": [
    "# init 4 knn models (2 for classification, 2 for regressions) ---\n",
    "# see docstring for details!\n",
    "# -- pre coded --\n",
    "_1nn_cls = KNeighborsClassifier(1)\n",
    "_5nn_cls = KNeighborsClassifier(5)"
   ],
   "metadata": {
    "collapsed": false
   }
  },
  {
   "cell_type": "code",
   "execution_count": 50,
   "outputs": [],
   "source": [
    "# fit the models and predict -------------------\n",
    "_1nn_cls = _1nn_cls.fit(X_cls, y_cls)\n",
    "y_hat_classification_k1 = _1nn_cls.predict(X_cls)\n",
    "\n",
    "_5nn_cls = _5nn_cls.fit(X_cls, y_cls)\n",
    "y_hat_classification_k5 = _5nn_cls.predict(X_cls)"
   ],
   "metadata": {
    "collapsed": false
   }
  },
  {
   "cell_type": "code",
   "execution_count": 51,
   "outputs": [],
   "source": [
    "error_y_hat_classification_k1 = y_cls != y_hat_classification_k1\n",
    "error_y_hat_classification_k5 = y_cls != y_hat_classification_k5\n"
   ],
   "metadata": {
    "collapsed": false
   }
  },
  {
   "cell_type": "code",
   "execution_count": 64,
   "outputs": [
    {
     "name": "stdout",
     "output_type": "stream",
     "text": [
      "     y_classification  y_hat_classification_k1  y_hat_classification_k5  \\\n",
      "0                   1                        1                        1   \n",
      "1                   1                        1                        1   \n",
      "2                   1                        1                        1   \n",
      "3                   1                        1                        0   \n",
      "4                   1                        1                        1   \n",
      "..                ...                      ...                      ...   \n",
      "294                 0                        0                        0   \n",
      "295                 0                        0                        0   \n",
      "296                 0                        0                        0   \n",
      "297                 0                        0                        0   \n",
      "298                 0                        0                        0   \n",
      "\n",
      "     error_y_hat_classification_k1  error_y_hat_classification_k5  \n",
      "0                                0                              0  \n",
      "1                                0                              0  \n",
      "2                                0                              0  \n",
      "3                                0                              1  \n",
      "4                                0                              0  \n",
      "..                             ...                            ...  \n",
      "294                              0                              0  \n",
      "295                              0                              0  \n",
      "296                              0                              0  \n",
      "297                              0                              0  \n",
      "298                              0                              0  \n",
      "\n",
      "[299 rows x 5 columns]\n"
     ]
    }
   ],
   "source": [
    "new_df = pd.DataFrame(np.vstack((y_cls, y_hat_classification_k1, y_hat_classification_k5, error_y_hat_classification_k1, error_y_hat_classification_k5)).T, columns=solution_dataframe_columns)\n",
    "\n",
    "print(new_df)"
   ],
   "metadata": {
    "collapsed": false
   }
  },
  {
   "cell_type": "code",
   "execution_count": null,
   "outputs": [],
   "source": [],
   "metadata": {
    "collapsed": false,
    "pycharm": {
     "is_executing": true
    }
   }
  },
  {
   "cell_type": "code",
   "execution_count": null,
   "outputs": [],
   "source": [],
   "metadata": {
    "collapsed": false
   }
  }
 ],
 "metadata": {
  "kernelspec": {
   "display_name": "Python 3",
   "language": "python",
   "name": "python3"
  },
  "language_info": {
   "codemirror_mode": {
    "name": "ipython",
    "version": 2
   },
   "file_extension": ".py",
   "mimetype": "text/x-python",
   "name": "python",
   "nbconvert_exporter": "python",
   "pygments_lexer": "ipython2",
   "version": "2.7.6"
  }
 },
 "nbformat": 4,
 "nbformat_minor": 0
}
