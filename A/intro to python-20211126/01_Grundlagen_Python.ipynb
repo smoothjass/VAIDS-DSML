{
 "cells": [
  {
   "cell_type": "markdown",
   "metadata": {
    "internals": {
     "slide_type": "subslide"
    },
    "slideshow": {
     "slide_type": "slide"
    }
   },
   "source": [
    "Some Python Basics (iPython Notebook)\n",
    "================================="
   ]
  },
  {
   "cell_type": "code",
   "execution_count": null,
   "outputs": [],
   "source": [],
   "metadata": {
    "collapsed": false
   }
  },
  {
   "cell_type": "markdown",
   "metadata": {
    "internals": {
     "frag_helper": "fragment_end",
     "frag_number": 1,
     "slide_helper": "subslide_end",
     "slide_type": "subslide"
    },
    "slide_helper": "slide_end",
    "slideshow": {
     "slide_type": "slide"
    }
   },
   "source": [
    "Basics\n",
    "------\n",
    "\n",
    "Comments in Python:"
   ]
  },
  {
   "cell_type": "code",
   "execution_count": 1,
   "metadata": {
    "internals": {
     "frag_number": 1,
     "slide_helper": "subslide_end"
    },
    "slide_helper": "slide_end",
    "slideshow": {
     "slide_type": "fragment"
    }
   },
   "outputs": [],
   "source": [
    "# you can mix text and code in one place and\n",
    "# run code from a Web browser"
   ]
  },
  {
   "cell_type": "markdown",
   "metadata": {
    "internals": {
     "frag_helper": "fragment_end",
     "frag_number": 1,
     "slide_type": "subslide"
    },
    "slideshow": {
     "slide_type": "subslide"
    }
   },
   "source": [
    "All you need to know about Python is here:\n",
    "\n",
    "You don't need to specify type of a variable"
   ]
  },
  {
   "cell_type": "code",
   "execution_count": 2,
   "metadata": {
    "internals": {
     "frag_helper": "fragment_end",
     "frag_number": 4
    },
    "slideshow": {
     "slide_type": "-"
    }
   },
   "outputs": [],
   "source": [
    "a = 11"
   ]
  },
  {
   "cell_type": "code",
   "execution_count": 3,
   "metadata": {
    "internals": {
     "frag_helper": "fragment_end",
     "frag_number": 5,
     "slide_helper": "subslide_end"
    },
    "slide_helper": "slide_end",
    "slideshow": {
     "slide_type": "-"
    }
   },
   "outputs": [
    {
     "name": "stdout",
     "output_type": "stream",
     "text": [
      "11\n",
      "False\n"
     ]
    },
    {
     "data": {
      "text/plain": "int"
     },
     "execution_count": 3,
     "metadata": {},
     "output_type": "execute_result"
    }
   ],
   "source": [
    "print(a)\n",
    "print(type(a) is bool)\n",
    "type(a)"
   ]
  },
  {
   "cell_type": "markdown",
   "metadata": {
    "internals": {
     "frag_helper": "fragment_end",
     "frag_number": 5,
     "slide_type": "subslide"
    },
    "slideshow": {
     "slide_type": "subslide"
    }
   },
   "source": [
    "You can assign several variables at once:"
   ]
  },
  {
   "cell_type": "code",
   "execution_count": 4,
   "metadata": {
    "internals": {
     "frag_helper": "fragment_end",
     "frag_number": 7
    },
    "slideshow": {
     "slide_type": "-"
    }
   },
   "outputs": [
    {
     "data": {
      "text/plain": "(1, 2)"
     },
     "execution_count": 4,
     "metadata": {},
     "output_type": "execute_result"
    }
   ],
   "source": [
    "a, b = 1, 2\n",
    "a, b"
   ]
  },
  {
   "cell_type": "code",
   "execution_count": 5,
   "metadata": {
    "internals": {
     "frag_helper": "fragment_end",
     "frag_number": 8,
     "slide_helper": "subslide_end"
    },
    "slide_helper": "slide_end",
    "slideshow": {
     "slide_type": "fragment"
    }
   },
   "outputs": [
    {
     "data": {
      "text/plain": "(2, 1)"
     },
     "execution_count": 5,
     "metadata": {},
     "output_type": "execute_result"
    }
   ],
   "source": [
    "b, a = a, b\n",
    "a, b"
   ]
  },
  {
   "cell_type": "markdown",
   "metadata": {
    "internals": {
     "frag_helper": "fragment_end",
     "frag_number": 8,
     "slide_type": "subslide"
    },
    "slideshow": {
     "slide_type": "subslide"
    }
   },
   "source": [
    "There is no \"begin-end\"! You use indentation to specify blocks. Here is simple IF statement:"
   ]
  },
  {
   "cell_type": "code",
   "execution_count": 6,
   "metadata": {
    "internals": {
     "frag_helper": "fragment_end",
     "frag_number": 10,
     "slide_helper": "subslide_end"
    },
    "slide_helper": "slide_end",
    "slideshow": {
     "slide_type": "-"
    }
   },
   "outputs": [
    {
     "name": "stdout",
     "output_type": "stream",
     "text": [
      "A is greater than B\n",
      "x\n"
     ]
    }
   ],
   "source": [
    "if a > b:\n",
    "    print(\"A is greater than B\")\n",
    "    print(\"x\")\n",
    "else:\n",
    "    print(\"B is greater than A\")"
   ]
  },
  {
   "cell_type": "markdown",
   "metadata": {
    "internals": {
     "frag_helper": "fragment_end",
     "frag_number": 10,
     "slide_helper": "subslide_end",
     "slide_type": "subslide"
    },
    "slide_helper": "slide_end",
    "slideshow": {
     "slide_type": "slide"
    }
   },
   "source": [
    "Types\n",
    "-----"
   ]
  },
  {
   "cell_type": "code",
   "execution_count": 7,
   "metadata": {
    "internals": {
     "frag_helper": "fragment_end",
     "frag_number": 10,
     "slide_helper": "subslide_end",
     "slide_type": "subslide"
    },
    "slide_helper": "slide_end",
    "slideshow": {
     "slide_type": "subslide"
    }
   },
   "outputs": [
    {
     "name": "stdout",
     "output_type": "stream",
     "text": [
      "1\n",
      "1.0\n",
      "Hello world\n",
      "Привет, мир!\n",
      "3\n",
      "1\n",
      "{1, 2}\n",
      "One\n"
     ]
    }
   ],
   "source": [
    "# Integer\n",
    "a = 1\n",
    "print(a)\n",
    "\n",
    "# Float\n",
    "b = 1.0\n",
    "print(b)\n",
    "\n",
    "# String\n",
    "c = \"Hello world\"\n",
    "print(c)\n",
    "\n",
    "# Unicode\n",
    "d = u\"Привет, мир!\"\n",
    "print(d)\n",
    "\n",
    "# List (array)\n",
    "e = [1, 2, 3]\n",
    "print(e[2]) # 3\n",
    "\n",
    "# Tuple (constant array)\n",
    "f = (1, 2, 3)\n",
    "print(f[0]) # 1\n",
    "\n",
    "# Set\n",
    "g = {1, 1, 1, 2}\n",
    "print(g)\n",
    "\n",
    "# Dictionary (hash table, hash map)\n",
    "g = {1: 'One', 2: 'Two', 3: 'Three'}\n",
    "print(g[1]) # 'One'"
   ]
  },
  {
   "cell_type": "markdown",
   "metadata": {
    "internals": {
     "frag_helper": "fragment_end",
     "frag_number": 10,
     "slide_helper": "subslide_end",
     "slide_type": "subslide"
    },
    "slide_helper": "slide_end",
    "slideshow": {
     "slide_type": "subslide"
    }
   },
   "source": [
    "Loops\n",
    "-----"
   ]
  },
  {
   "cell_type": "markdown",
   "metadata": {
    "internals": {
     "frag_helper": "fragment_end",
     "frag_number": 10,
     "slide_type": "subslide"
    },
    "slideshow": {
     "slide_type": "subslide"
    }
   },
   "source": [
    "### for"
   ]
  },
  {
   "cell_type": "code",
   "execution_count": 8,
   "metadata": {
    "internals": {
     "frag_helper": "fragment_end",
     "frag_number": 15,
     "slide_helper": "subslide_end"
    },
    "slide_helper": "slide_end",
    "slideshow": {
     "slide_type": "-"
    }
   },
   "outputs": [
    {
     "name": "stdout",
     "output_type": "stream",
     "text": [
      "0\n",
      "1\n",
      "2\n",
      "3\n",
      "4\n",
      "5\n",
      "6\n",
      "7\n",
      "8\n",
      "9\n"
     ]
    }
   ],
   "source": [
    "for i in range(10):\n",
    "    print(i)"
   ]
  },
  {
   "cell_type": "markdown",
   "metadata": {
    "internals": {
     "frag_helper": "fragment_end",
     "frag_number": 15,
     "slide_type": "subslide"
    },
    "slideshow": {
     "slide_type": "subslide"
    }
   },
   "source": [
    "### while"
   ]
  },
  {
   "cell_type": "code",
   "execution_count": 9,
   "metadata": {
    "internals": {
     "frag_helper": "fragment_end",
     "frag_number": 17,
     "slide_helper": "subslide_end"
    },
    "slide_helper": "slide_end",
    "slideshow": {
     "slide_type": "-"
    }
   },
   "outputs": [
    {
     "name": "stdout",
     "output_type": "stream",
     "text": [
      "0\n",
      "1\n",
      "2\n",
      "3\n",
      "4\n",
      "5\n",
      "6\n",
      "7\n",
      "8\n",
      "9\n"
     ]
    }
   ],
   "source": [
    "i = 0\n",
    "while i < 10:\n",
    "    print(i)\n",
    "    i += 1"
   ]
  },
  {
   "cell_type": "markdown",
   "metadata": {
    "internals": {
     "frag_helper": "fragment_end",
     "frag_number": 17,
     "slide_type": "subslide"
    },
    "slideshow": {
     "slide_type": "subslide"
    }
   },
   "source": [
    "### List and Enumerate"
   ]
  },
  {
   "cell_type": "code",
   "execution_count": 10,
   "metadata": {
    "internals": {
     "frag_helper": "fragment_end",
     "frag_number": 19,
     "slide_helper": "subslide_end"
    },
    "slide_helper": "subslide_end",
    "slideshow": {
     "slide_type": "-"
    }
   },
   "outputs": [
    {
     "name": "stdout",
     "output_type": "stream",
     "text": [
      "Length of the list: 5 \n",
      "Elements:\n",
      "-  apple\n",
      "-  blackberry\n",
      "-  banana\n",
      "-  stawberry\n",
      "-  watermelon\n"
     ]
    }
   ],
   "source": [
    "items = ['apple', 'banana', 'stawberry', 'watermelon']\n",
    "# append an element\n",
    "items.append('blackberry')\n",
    "# removes last element\n",
    "items.pop()\n",
    "# insert element on the 2nd position\n",
    "items.insert(1, 'blackberry')\n",
    "# lenght of the list\n",
    "print('Length of the list:', len(items),'\\nElements:')\n",
    "for item in items:\n",
    "    print('- ', item)"
   ]
  },
  {
   "cell_type": "code",
   "execution_count": 11,
   "metadata": {
    "internals": {
     "frag_helper": "fragment_end",
     "frag_number": 19,
     "slide_helper": "subslide_end",
     "slide_type": "subslide"
    },
    "slide_helper": "slide_end",
    "slideshow": {
     "slide_type": "fragment"
    }
   },
   "outputs": [
    {
     "name": "stdout",
     "output_type": "stream",
     "text": [
      "0 apple\n",
      "1 blackberry\n",
      "2 banana\n",
      "3 stawberry\n",
      "4 watermelon\n"
     ]
    }
   ],
   "source": [
    "for i, item in enumerate(items):\n",
    "    print(i, item)"
   ]
  },
  {
   "cell_type": "markdown",
   "metadata": {
    "internals": {
     "frag_helper": "fragment_end",
     "frag_number": 19,
     "slide_helper": "subslide_end",
     "slide_type": "subslide"
    },
    "slide_helper": "slide_end",
    "slideshow": {
     "slide_type": "slide"
    }
   },
   "source": [
    "Python code style\n",
    "=================\n",
    "\n",
    "There is PEP 8 (Python Enhancement Proposal), which contains all wise ideas about Python code style. Let's look at some of them:"
   ]
  },
  {
   "cell_type": "markdown",
   "metadata": {
    "internals": {
     "frag_helper": "fragment_end",
     "frag_number": 19,
     "slide_type": "subslide"
    },
    "slideshow": {
     "slide_type": "subslide"
    }
   },
   "source": [
    "Naming\n",
    "------"
   ]
  },
  {
   "cell_type": "code",
   "execution_count": 12,
   "metadata": {
    "internals": {
     "frag_helper": "fragment_end",
     "frag_number": 23,
     "slide_helper": "subslide_end"
    },
    "slide_helper": "slide_end",
    "slideshow": {
     "slide_type": "fragment"
    }
   },
   "outputs": [],
   "source": [
    "# Variable name\n",
    "my_variable = 1\n",
    "\n",
    "# Class method and function names\n",
    "def my_function():\n",
    "    pass\n",
    "\n",
    "# Constants\n",
    "MY_CONSTANT = 1\n",
    "\n",
    "# Class name\n",
    "class MyClass(object):\n",
    "    # 'private' variable - use underscore before a name\n",
    "    _my_variable = 1\n",
    "\n",
    "    # 'protected' variable - use two underscores before a name\n",
    "    __my_variable = 1\n",
    "\n",
    "    # magic methods\n",
    "    def __init__(self):\n",
    "        self._another_my_variable = 1"
   ]
  },
  {
   "cell_type": "markdown",
   "metadata": {
    "internals": {
     "frag_helper": "fragment_end",
     "frag_number": 23,
     "slide_helper": "subslide_end",
     "slide_type": "subslide"
    },
    "slide_helper": "subslide_end",
    "slideshow": {
     "slide_type": "subslide"
    }
   },
   "source": [
    "String Quotes\n",
    "-------------\n",
    "\n",
    "PEP 8 quote:\n",
    "> In Python, single-quoted strings and double-quoted strings are the same. PEP 8 does not make a recommendation for this. Pick a rule and stick to it. When a string contains single or double quote characters, however, use the other one to avoid backslashes in the string. It improves readability.\n",
    "\n",
    "> For triple-quoted strings, always use double quote characters to be consistent with the docstring convention in PEP 257.\n",
    "\n",
    "My rule for single-quoted and double-quoted strings is:\n",
    "1. Use single-quoted for keywords;\n",
    "2. Use double-quoted for user text;\n",
    "3. Use tripple-double-quoted for all multiline strings and docstrings."
   ]
  },
  {
   "cell_type": "code",
   "execution_count": 13,
   "metadata": {
    "internals": {
     "frag_helper": "fragment_end",
     "frag_number": 23,
     "slide_helper": "subslide_end",
     "slide_type": "subslide"
    },
    "slide_helper": "slide_end",
    "slideshow": {
     "slide_type": "subslide"
    }
   },
   "outputs": [
    {
     "data": {
      "text/plain": "'\\nAnother\\nmultiline\\nstring\\n'"
     },
     "execution_count": 13,
     "metadata": {},
     "output_type": "execute_result"
    }
   ],
   "source": [
    "'string'\n",
    "\n",
    "\"another string\"\n",
    "\n",
    "\"\"\"Multiline\n",
    "string\"\"\"\n",
    "\n",
    "'''\n",
    "Another\n",
    "multiline\n",
    "string\n",
    "'''"
   ]
  },
  {
   "cell_type": "markdown",
   "metadata": {
    "internals": {
     "frag_helper": "fragment_end",
     "frag_number": 23,
     "slide_helper": "subslide_end",
     "slide_type": "subslide"
    },
    "slide_helper": "subslide_end",
    "slideshow": {
     "slide_type": "slide"
    }
   },
   "source": [
    "Some tricks\n",
    "-------------"
   ]
  },
  {
   "cell_type": "markdown",
   "metadata": {
    "internals": {
     "frag_helper": "fragment_end",
     "frag_number": 23,
     "slide_type": "subslide"
    },
    "slideshow": {
     "slide_type": "subslide"
    }
   },
   "source": [
    "Sum all elements in an array is straightforward:"
   ]
  },
  {
   "cell_type": "code",
   "execution_count": 14,
   "metadata": {
    "internals": {
     "frag_helper": "fragment_end",
     "frag_number": 29,
     "slide_helper": "subslide_end"
    },
    "slide_helper": "subslide_end",
    "slideshow": {
     "slide_type": "-"
    }
   },
   "outputs": [
    {
     "data": {
      "text/plain": "15"
     },
     "execution_count": 14,
     "metadata": {},
     "output_type": "execute_result"
    }
   ],
   "source": [
    "sum([1,2,3,4,5])"
   ]
  },
  {
   "cell_type": "markdown",
   "metadata": {
    "internals": {
     "frag_helper": "fragment_end",
     "frag_number": 29,
     "slide_type": "subslide"
    },
    "slideshow": {
     "slide_type": "subslide"
    }
   },
   "source": [
    "However, there is no built-in function for multiplication:"
   ]
  },
  {
   "cell_type": "code",
   "execution_count": 15,
   "metadata": {
    "internals": {
     "frag_helper": "fragment_end",
     "frag_number": 31,
     "slide_helper": "subslide_end"
    },
    "slide_helper": "subslide_end",
    "slideshow": {
     "slide_type": "-"
    }
   },
   "outputs": [
    {
     "ename": "NameError",
     "evalue": "name 'mult' is not defined",
     "output_type": "error",
     "traceback": [
      "\u001B[1;31m---------------------------------------------------------------------------\u001B[0m",
      "\u001B[1;31mNameError\u001B[0m                                 Traceback (most recent call last)",
      "Cell \u001B[1;32mIn[15], line 1\u001B[0m\n\u001B[1;32m----> 1\u001B[0m \u001B[43mmult\u001B[49m([\u001B[38;5;241m1\u001B[39m,\u001B[38;5;241m2\u001B[39m,\u001B[38;5;241m3\u001B[39m,\u001B[38;5;241m4\u001B[39m,\u001B[38;5;241m5\u001B[39m])\n",
      "\u001B[1;31mNameError\u001B[0m: name 'mult' is not defined"
     ]
    }
   ],
   "source": [
    "mult([1,2,3,4,5])"
   ]
  },
  {
   "cell_type": "markdown",
   "metadata": {
    "internals": {
     "frag_helper": "fragment_end",
     "frag_number": 31,
     "slide_type": "subslide"
    },
    "slideshow": {
     "slide_type": "subslide"
    }
   },
   "source": [
    "So we have to write our solution. Let's start with straightforward one:"
   ]
  },
  {
   "cell_type": "code",
   "execution_count": 16,
   "metadata": {
    "internals": {
     "frag_helper": "fragment_end",
     "frag_number": 33
    },
    "slideshow": {
     "slide_type": "-"
    }
   },
   "outputs": [],
   "source": [
    "def mult(array):\n",
    "    result = 1\n",
    "    for item in array:\n",
    "        result *= item\n",
    "    return result"
   ]
  },
  {
   "cell_type": "code",
   "execution_count": 17,
   "metadata": {
    "internals": {
     "frag_helper": "fragment_end",
     "frag_number": 34,
     "slide_helper": "subslide_end"
    },
    "slide_helper": "subslide_end",
    "slideshow": {
     "slide_type": "fragment"
    }
   },
   "outputs": [
    {
     "data": {
      "text/plain": "120"
     },
     "execution_count": 17,
     "metadata": {},
     "output_type": "execute_result"
    }
   ],
   "source": [
    "mult([1,2,3,4,5])"
   ]
  },
  {
   "cell_type": "code",
   "execution_count": 19,
   "metadata": {},
   "outputs": [
    {
     "data": {
      "text/plain": "   imdbID                                   title  year     rating runtime  \\\n0       1                              Carmencita  1894  NOT RATED   1 min   \n1       5                        Blacksmith Scene  1893    UNRATED   1 min   \n2       3                          Pauvre Pierrot  1892        NaN   4 min   \n3       8  Edison Kinetoscopic Record of a Sneeze  1894        NaN   1 min   \n4      10   Employees Leaving the Lumi�re Factory  1895        NaN   1 min   \n\n                      genre    released              director writer  \\\n0        Documentary, Short         NaN  William K.L. Dickson    NaN   \n1                     Short  1893-05-09  William K.L. Dickson    NaN   \n2  Animation, Comedy, Short  1892-10-28         �mile Reynaud    NaN   \n3        Documentary, Short  1894-01-09  William K.L. Dickson    NaN   \n4        Documentary, Short  1895-03-22         Louis Lumi�re    NaN   \n\n                       cast  ...  imdbRating  imdbVotes  \\\n0                Carmencita  ...         5.9     1032.0   \n1  Charles Kayser, John Ott  ...         6.2     1189.0   \n2                       NaN  ...         6.7      566.0   \n3                  Fred Ott  ...         5.9      988.0   \n4                       NaN  ...         6.9     3469.0   \n\n                                              poster  \\\n0  http://ia.media-imdb.com/images/M/MV5BMjAzNDEw...   \n1                                                NaN   \n2                                                NaN   \n3                                                NaN   \n4                                                NaN   \n\n                                                plot  \\\n0  Performing on what looks like a small wooden s...   \n1  Three men hammer on an anvil and pass a bottle...   \n2  One night, Arlequin come to see his lover Colo...   \n3  A man (Thomas Edison's assistant) takes a pinc...   \n4  A man opens the big gates to the Lumi�re facto...   \n\n                                            fullplot language country  awards  \\\n0  Performing on what looks like a small wooden s...      NaN     USA     NaN   \n1  A stationary camera looks at a large anvil wit...      NaN     USA  1 win.   \n2  One night, Arlequin come to see his lover Colo...      NaN  France     NaN   \n3  A man (Edison's assistant) takes a pinch of sn...      NaN     USA     NaN   \n4  A man opens the big gates to the Lumi�re facto...      NaN  France     NaN   \n\n                     lastupdated   type  \n0  2015-08-26 00:03:45.040000000  movie  \n1  2015-08-26 00:03:50.133000000  movie  \n2  2015-08-12 00:06:02.720000000  movie  \n3  2015-08-10 00:21:07.127000000  movie  \n4  2015-08-26 00:03:56.603000000  movie  \n\n[5 rows x 21 columns]",
      "text/html": "<div>\n<style scoped>\n    .dataframe tbody tr th:only-of-type {\n        vertical-align: middle;\n    }\n\n    .dataframe tbody tr th {\n        vertical-align: top;\n    }\n\n    .dataframe thead th {\n        text-align: right;\n    }\n</style>\n<table border=\"1\" class=\"dataframe\">\n  <thead>\n    <tr style=\"text-align: right;\">\n      <th></th>\n      <th>imdbID</th>\n      <th>title</th>\n      <th>year</th>\n      <th>rating</th>\n      <th>runtime</th>\n      <th>genre</th>\n      <th>released</th>\n      <th>director</th>\n      <th>writer</th>\n      <th>cast</th>\n      <th>...</th>\n      <th>imdbRating</th>\n      <th>imdbVotes</th>\n      <th>poster</th>\n      <th>plot</th>\n      <th>fullplot</th>\n      <th>language</th>\n      <th>country</th>\n      <th>awards</th>\n      <th>lastupdated</th>\n      <th>type</th>\n    </tr>\n  </thead>\n  <tbody>\n    <tr>\n      <th>0</th>\n      <td>1</td>\n      <td>Carmencita</td>\n      <td>1894</td>\n      <td>NOT RATED</td>\n      <td>1 min</td>\n      <td>Documentary, Short</td>\n      <td>NaN</td>\n      <td>William K.L. Dickson</td>\n      <td>NaN</td>\n      <td>Carmencita</td>\n      <td>...</td>\n      <td>5.9</td>\n      <td>1032.0</td>\n      <td>http://ia.media-imdb.com/images/M/MV5BMjAzNDEw...</td>\n      <td>Performing on what looks like a small wooden s...</td>\n      <td>Performing on what looks like a small wooden s...</td>\n      <td>NaN</td>\n      <td>USA</td>\n      <td>NaN</td>\n      <td>2015-08-26 00:03:45.040000000</td>\n      <td>movie</td>\n    </tr>\n    <tr>\n      <th>1</th>\n      <td>5</td>\n      <td>Blacksmith Scene</td>\n      <td>1893</td>\n      <td>UNRATED</td>\n      <td>1 min</td>\n      <td>Short</td>\n      <td>1893-05-09</td>\n      <td>William K.L. Dickson</td>\n      <td>NaN</td>\n      <td>Charles Kayser, John Ott</td>\n      <td>...</td>\n      <td>6.2</td>\n      <td>1189.0</td>\n      <td>NaN</td>\n      <td>Three men hammer on an anvil and pass a bottle...</td>\n      <td>A stationary camera looks at a large anvil wit...</td>\n      <td>NaN</td>\n      <td>USA</td>\n      <td>1 win.</td>\n      <td>2015-08-26 00:03:50.133000000</td>\n      <td>movie</td>\n    </tr>\n    <tr>\n      <th>2</th>\n      <td>3</td>\n      <td>Pauvre Pierrot</td>\n      <td>1892</td>\n      <td>NaN</td>\n      <td>4 min</td>\n      <td>Animation, Comedy, Short</td>\n      <td>1892-10-28</td>\n      <td>�mile Reynaud</td>\n      <td>NaN</td>\n      <td>NaN</td>\n      <td>...</td>\n      <td>6.7</td>\n      <td>566.0</td>\n      <td>NaN</td>\n      <td>One night, Arlequin come to see his lover Colo...</td>\n      <td>One night, Arlequin come to see his lover Colo...</td>\n      <td>NaN</td>\n      <td>France</td>\n      <td>NaN</td>\n      <td>2015-08-12 00:06:02.720000000</td>\n      <td>movie</td>\n    </tr>\n    <tr>\n      <th>3</th>\n      <td>8</td>\n      <td>Edison Kinetoscopic Record of a Sneeze</td>\n      <td>1894</td>\n      <td>NaN</td>\n      <td>1 min</td>\n      <td>Documentary, Short</td>\n      <td>1894-01-09</td>\n      <td>William K.L. Dickson</td>\n      <td>NaN</td>\n      <td>Fred Ott</td>\n      <td>...</td>\n      <td>5.9</td>\n      <td>988.0</td>\n      <td>NaN</td>\n      <td>A man (Thomas Edison's assistant) takes a pinc...</td>\n      <td>A man (Edison's assistant) takes a pinch of sn...</td>\n      <td>NaN</td>\n      <td>USA</td>\n      <td>NaN</td>\n      <td>2015-08-10 00:21:07.127000000</td>\n      <td>movie</td>\n    </tr>\n    <tr>\n      <th>4</th>\n      <td>10</td>\n      <td>Employees Leaving the Lumi�re Factory</td>\n      <td>1895</td>\n      <td>NaN</td>\n      <td>1 min</td>\n      <td>Documentary, Short</td>\n      <td>1895-03-22</td>\n      <td>Louis Lumi�re</td>\n      <td>NaN</td>\n      <td>NaN</td>\n      <td>...</td>\n      <td>6.9</td>\n      <td>3469.0</td>\n      <td>NaN</td>\n      <td>A man opens the big gates to the Lumi�re facto...</td>\n      <td>A man opens the big gates to the Lumi�re facto...</td>\n      <td>NaN</td>\n      <td>France</td>\n      <td>NaN</td>\n      <td>2015-08-26 00:03:56.603000000</td>\n      <td>movie</td>\n    </tr>\n  </tbody>\n</table>\n<p>5 rows × 21 columns</p>\n</div>"
     },
     "execution_count": 19,
     "metadata": {},
     "output_type": "execute_result"
    }
   ],
   "source": [
    "import numpy as np\n",
    "import pandas as pd\n",
    "import time\n",
    "\n",
    "# load data from a csv file using pandas (pd)\n",
    "start_time = time.time()\n",
    "df = pd.read_csv('01_sample_data_movies.csv', encoding='utf8')\n",
    "df.head()"
   ]
  },
  {
   "cell_type": "code",
   "execution_count": 20,
   "metadata": {},
   "outputs": [
    {
     "name": "stdout",
     "output_type": "stream",
     "text": [
      "<class 'pandas.core.frame.DataFrame'>\n",
      "RangeIndex: 1123 entries, 0 to 1122\n",
      "Data columns (total 21 columns):\n",
      " #   Column       Non-Null Count  Dtype  \n",
      "---  ------       --------------  -----  \n",
      " 0   imdbID       1123 non-null   int64  \n",
      " 1   title        1123 non-null   object \n",
      " 2   year         1123 non-null   int64  \n",
      " 3   rating       628 non-null    object \n",
      " 4   runtime      1112 non-null   object \n",
      " 5   genre        1118 non-null   object \n",
      " 6   released     1080 non-null   object \n",
      " 7   director     1121 non-null   object \n",
      " 8   writer       1011 non-null   object \n",
      " 9   cast         1089 non-null   object \n",
      " 10  metacritic   4 non-null      float64\n",
      " 11  imdbRating   1120 non-null   float64\n",
      " 12  imdbVotes    1120 non-null   float64\n",
      " 13  poster       808 non-null    object \n",
      " 14  plot         1054 non-null   object \n",
      " 15  fullplot     1038 non-null   object \n",
      " 16  language     925 non-null    object \n",
      " 17  country      1122 non-null   object \n",
      " 18  awards       208 non-null    object \n",
      " 19  lastupdated  1123 non-null   object \n",
      " 20  type         1123 non-null   object \n",
      "dtypes: float64(3), int64(2), object(16)\n",
      "memory usage: 184.4+ KB\n"
     ]
    }
   ],
   "source": [
    "# some infos on the data-frame (columns, memory usage)\n",
    "df.info()"
   ]
  },
  {
   "cell_type": "code",
   "execution_count": 21,
   "metadata": {},
   "outputs": [
    {
     "data": {
      "text/plain": "             imdbID         year  metacritic   imdbRating     imdbVotes\ncount   1123.000000  1123.000000     4.00000  1120.000000   1120.000000\nmean   17168.562778  1925.779163    91.50000     6.910893   2126.257143\nstd     7060.945774     8.014872     4.50925     0.733135   7452.461114\nmin        1.000000  1892.000000    88.00000     4.000000      6.000000\n25%    13137.000000  1922.000000    88.75000     6.500000    271.750000\n50%    19646.000000  1929.000000    90.00000     7.000000    594.500000\n75%    22789.500000  1932.000000    92.75000     7.400000   1273.750000\nmax    24989.000000  1935.000000    98.00000     8.600000  99845.000000",
      "text/html": "<div>\n<style scoped>\n    .dataframe tbody tr th:only-of-type {\n        vertical-align: middle;\n    }\n\n    .dataframe tbody tr th {\n        vertical-align: top;\n    }\n\n    .dataframe thead th {\n        text-align: right;\n    }\n</style>\n<table border=\"1\" class=\"dataframe\">\n  <thead>\n    <tr style=\"text-align: right;\">\n      <th></th>\n      <th>imdbID</th>\n      <th>year</th>\n      <th>metacritic</th>\n      <th>imdbRating</th>\n      <th>imdbVotes</th>\n    </tr>\n  </thead>\n  <tbody>\n    <tr>\n      <th>count</th>\n      <td>1123.000000</td>\n      <td>1123.000000</td>\n      <td>4.00000</td>\n      <td>1120.000000</td>\n      <td>1120.000000</td>\n    </tr>\n    <tr>\n      <th>mean</th>\n      <td>17168.562778</td>\n      <td>1925.779163</td>\n      <td>91.50000</td>\n      <td>6.910893</td>\n      <td>2126.257143</td>\n    </tr>\n    <tr>\n      <th>std</th>\n      <td>7060.945774</td>\n      <td>8.014872</td>\n      <td>4.50925</td>\n      <td>0.733135</td>\n      <td>7452.461114</td>\n    </tr>\n    <tr>\n      <th>min</th>\n      <td>1.000000</td>\n      <td>1892.000000</td>\n      <td>88.00000</td>\n      <td>4.000000</td>\n      <td>6.000000</td>\n    </tr>\n    <tr>\n      <th>25%</th>\n      <td>13137.000000</td>\n      <td>1922.000000</td>\n      <td>88.75000</td>\n      <td>6.500000</td>\n      <td>271.750000</td>\n    </tr>\n    <tr>\n      <th>50%</th>\n      <td>19646.000000</td>\n      <td>1929.000000</td>\n      <td>90.00000</td>\n      <td>7.000000</td>\n      <td>594.500000</td>\n    </tr>\n    <tr>\n      <th>75%</th>\n      <td>22789.500000</td>\n      <td>1932.000000</td>\n      <td>92.75000</td>\n      <td>7.400000</td>\n      <td>1273.750000</td>\n    </tr>\n    <tr>\n      <th>max</th>\n      <td>24989.000000</td>\n      <td>1935.000000</td>\n      <td>98.00000</td>\n      <td>8.600000</td>\n      <td>99845.000000</td>\n    </tr>\n  </tbody>\n</table>\n</div>"
     },
     "execution_count": 21,
     "metadata": {},
     "output_type": "execute_result"
    }
   ],
   "source": [
    "# description of data-frame, including the 7-number summary\n",
    "df.describe()"
   ]
  },
  {
   "cell_type": "markdown",
   "metadata": {
    "internals": {
     "frag_helper": "fragment_end",
     "frag_number": 37,
     "slide_type": "subslide"
    },
    "slideshow": {
     "slide_type": "slide"
    }
   },
   "source": [
    "Very important references\n",
    "=====================\n",
    "\n",
    "* PEP 8 - Style Guide for Python Code: https://www.python.org/dev/peps/pep-0008/\n",
    "* Python 3 Documentation: https://docs.python.org/3/"
   ]
  },
  {
   "cell_type": "markdown",
   "metadata": {},
   "source": [
    "##### Exercise: Take the following list and write a program that prints out all the elements of the list that are smaller than 5."
   ]
  },
  {
   "cell_type": "code",
   "execution_count": 22,
   "metadata": {},
   "outputs": [
    {
     "name": "stdout",
     "output_type": "stream",
     "text": [
      "1\n",
      "1\n",
      "2\n",
      "3\n"
     ]
    }
   ],
   "source": [
    "a = [1, 1, 2, 3, 5, 8, 13, 21, 34, 55, 89]\n",
    "\n",
    "for item in a:\n",
    "    if item < 5:\n",
    "        print(item)"
   ]
  },
  {
   "cell_type": "markdown",
   "metadata": {},
   "source": [
    "##### Exercise: Take the following two lists and write a program that returns a list that contains only the elements that are common between the lists (without duplicates). Make sure your program works on two lists of different sizes. Moreover, try to find a 1-line-solution (using sets)."
   ]
  },
  {
   "cell_type": "code",
   "execution_count": 26,
   "metadata": {},
   "outputs": [
    {
     "name": "stdout",
     "output_type": "stream",
     "text": [
      "[52, 23, 81, 2, 74, 54, 21, 76, 45, 6] [7, 28, 92, 66, 96, 72, 61, 32, 2, 21, 38, 45] {2, 21, 45}\n"
     ]
    }
   ],
   "source": [
    "import random\n",
    "a = random.sample(range(1, 100), 10)\n",
    "b = random.sample(range(1, 100), 12)\n",
    "\n",
    "c = set(a).intersection(set(b))\n",
    "print(a, b, c)"
   ]
  },
  {
   "cell_type": "markdown",
   "metadata": {},
   "source": [
    "##### Exercise: Write one line of Python that takes the following list a and makes a new list that has only the even elements of this list in it."
   ]
  },
  {
   "cell_type": "code",
   "execution_count": 29,
   "metadata": {},
   "outputs": [
    {
     "name": "stdout",
     "output_type": "stream",
     "text": [
      "[4, 16, 36, 64, 100]\n"
     ]
    }
   ],
   "source": [
    "a = [1, 4, 9, 16, 25, 36, 49, 64, 81, 100]\n",
    "b = a[1::2]\n",
    "print(b)"
   ]
  },
  {
   "cell_type": "markdown",
   "metadata": {},
   "source": [
    "##### Exercise: Implement a function that takes as input three variables, and returns the largest of the three. Do this without using the Python max() function!"
   ]
  },
  {
   "cell_type": "code",
   "execution_count": 48,
   "outputs": [
    {
     "name": "stdout",
     "output_type": "stream",
     "text": [
      "[45, 70, 72]\n",
      "72\n"
     ]
    }
   ],
   "source": [
    "def max_function(list):\n",
    "    list.sort()\n",
    "    print(list)\n",
    "    return list.pop()\n",
    "\n",
    "a = random.sample(range(1, 100), 3)\n",
    "largest = max_function(a)\n",
    "print(largest)"
   ],
   "metadata": {
    "collapsed": false
   }
  },
  {
   "cell_type": "markdown",
   "metadata": {},
   "source": [
    "##### Exercise: Write a Python program to concatenate following dictionaries to create a new one."
   ]
  },
  {
   "cell_type": "code",
   "execution_count": 51,
   "metadata": {},
   "outputs": [
    {
     "name": "stdout",
     "output_type": "stream",
     "text": [
      "{1: 10, 2: 20, 3: 30, 4: 40, 5: 50, 6: 60}\n"
     ]
    }
   ],
   "source": [
    "dic1={1:10, 2:20}\n",
    "dic2={3:30, 4:40}\n",
    "dic3={5:50, 6:60}\n",
    "\n",
    "dic4 = {**dic1, **dic2, **dic3}\n",
    "print(dic4)"
   ]
  },
  {
   "cell_type": "markdown",
   "metadata": {},
   "source": [
    "##### Exercise: With a given integral number n, write a program to generate a dictionary that contains (i, i*i) such that i is an integral number between 1 and n (both included). Remark: User input can be captured using the command input()."
   ]
  },
  {
   "cell_type": "code",
   "execution_count": 57,
   "outputs": [
    {
     "name": "stdout",
     "output_type": "stream",
     "text": [
      "Enter a number:\n",
      "{7: 49}\n"
     ]
    }
   ],
   "source": [
    "print(\"Enter a number:\")\n",
    "n = int(input())\n",
    "i = random.randint(1, n)\n",
    "dic = {i: i*i}\n",
    "print(dic)"
   ],
   "metadata": {
    "collapsed": false
   }
  },
  {
   "cell_type": "markdown",
   "metadata": {},
   "source": [
    "##### Exercise: Generate a random number between 1 and 25 (including 1 and 25). Ask the user to guess the number, then tell them whether they guessed too low, too high, or exactly right. Remark: Import and use the random library."
   ]
  },
  {
   "cell_type": "code",
   "execution_count": 63,
   "metadata": {},
   "outputs": [
    {
     "name": "stdout",
     "output_type": "stream",
     "text": [
      "Guess:\n",
      "Too low!\n",
      "Guess:\n",
      "Too low!\n",
      "Guess:\n",
      "Too low!\n",
      "Guess:\n",
      "Too low!\n",
      "Guess:\n",
      "Too low!\n",
      "Guess:\n"
     ]
    },
    {
     "ename": "ValueError",
     "evalue": "invalid literal for int() with base 10: ''",
     "output_type": "error",
     "traceback": [
      "\u001B[1;31m---------------------------------------------------------------------------\u001B[0m",
      "\u001B[1;31mValueError\u001B[0m                                Traceback (most recent call last)",
      "Cell \u001B[1;32mIn[63], line 9\u001B[0m\n\u001B[0;32m      7\u001B[0m \u001B[38;5;28;01mwhile\u001B[39;00m \u001B[38;5;129;01mnot\u001B[39;00m success:\n\u001B[0;32m      8\u001B[0m     \u001B[38;5;28mprint\u001B[39m(\u001B[38;5;124m\"\u001B[39m\u001B[38;5;124mGuess:\u001B[39m\u001B[38;5;124m\"\u001B[39m)\n\u001B[1;32m----> 9\u001B[0m     x \u001B[38;5;241m=\u001B[39m \u001B[38;5;28;43mint\u001B[39;49m\u001B[43m(\u001B[49m\u001B[38;5;28;43minput\u001B[39;49m\u001B[43m(\u001B[49m\u001B[43m)\u001B[49m\u001B[43m)\u001B[49m\n\u001B[0;32m     10\u001B[0m     \u001B[38;5;28;01mif\u001B[39;00m x \u001B[38;5;241m>\u001B[39m number:\n\u001B[0;32m     11\u001B[0m         \u001B[38;5;28mprint\u001B[39m(\u001B[38;5;124m\"\u001B[39m\u001B[38;5;124mToo high!\u001B[39m\u001B[38;5;124m\"\u001B[39m)\n",
      "\u001B[1;31mValueError\u001B[0m: invalid literal for int() with base 10: ''"
     ]
    }
   ],
   "source": [
    "# generate a random number\n",
    "import random\n",
    "number = random.randint(1,25)\n",
    "\n",
    "success = False\n",
    "x = 0\n",
    "while not success:\n",
    "    print(\"Guess:\")\n",
    "    x = int(input())\n",
    "    if x > number:\n",
    "        print(\"Too high!\")\n",
    "    elif x < number:\n",
    "        print(\"Too low!\")\n",
    "    else:\n",
    "        print(\"Exactly right\")\n",
    "        success = True"
   ]
  }
 ],
 "metadata": {
  "kernelspec": {
   "display_name": "Python 3",
   "language": "python",
   "name": "python3"
  },
  "language_info": {
   "codemirror_mode": {
    "name": "ipython",
    "version": 3
   },
   "file_extension": ".py",
   "mimetype": "text/x-python",
   "name": "python",
   "nbconvert_exporter": "python",
   "pygments_lexer": "ipython3",
   "version": "3.6.4"
  }
 },
 "nbformat": 4,
 "nbformat_minor": 4
}
